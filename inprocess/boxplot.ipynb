{
 "cells": [
  {
   "cell_type": "code",
   "execution_count": 33,
   "metadata": {
    "collapsed": false
   },
   "outputs": [],
   "source": [
    "%matplotlib inline\n",
    "\n",
    "## numpy is used for creating fake data\n",
    "import numpy as np \n",
    "import pandas as pd\n",
    "import matplotlib as mpl \n",
    "\n",
    "## agg backend is used to create plot as a .png file\n",
    "# mpl.use('agg')\n",
    "\n",
    "import matplotlib.pyplot as plt "
   ]
  },
  {
   "cell_type": "code",
   "execution_count": 24,
   "metadata": {
    "collapsed": true
   },
   "outputs": [],
   "source": [
    "## Create data\n",
    "np.random.seed(10)\n",
    "collectn_1 = np.random.normal(100, 10, 200)\n",
    "collectn_2 = np.random.normal(80, 30, 200)\n",
    "collectn_3 = np.random.normal(90, 20, 200)\n",
    "collectn_4 = np.random.normal(70, 25, 200)\n",
    "\n",
    "## combine these different collections into a list    \n",
    "data_to_plot = [collectn_1, collectn_2, collectn_3, collectn_4]"
   ]
  },
  {
   "cell_type": "code",
   "execution_count": 25,
   "metadata": {
    "collapsed": false
   },
   "outputs": [
    {
     "data": {
      "image/png": "[encoded data removed]",
      "text/plain": [
       "<matplotlib.figure.Figure at 0x106943320>"
      ]
     },
     "metadata": {},
     "output_type": "display_data"
    }
   ],
   "source": [
    "# Create a figure instance\n",
    "fig = plt.figure(1, figsize=(9, 6))\n",
    "\n",
    "# Create an axes instance\n",
    "ax = fig.add_subplot(111)\n",
    "\n",
    "# Create the boxplot\n",
    "bp = ax.boxplot(data_to_plot)"
   ]
  },
  {
   "cell_type": "code",
   "execution_count": 27,
   "metadata": {
    "collapsed": false
   },
   "outputs": [],
   "source": [
    "## change outline color, fill color and linewidth of the boxes\n",
    "for box in bp['boxes']:\n",
    "    # change outline color\n",
    "    box.set( color='#7570b3', linewidth=2)\n",
    "    # change fill color\n",
    "    box.set( color = '#1b9e77' )\n",
    "\n",
    "## change color and linewidth of the whiskers\n",
    "for whisker in bp['whiskers']:\n",
    "    whisker.set(color='#7570b3', linewidth=2)\n",
    "\n",
    "## change color and linewidth of the caps\n",
    "for cap in bp['caps']:\n",
    "    cap.set(color='#7570b3', linewidth=2)\n",
    "\n",
    "## change color and linewidth of the medians\n",
    "for median in bp['medians']:\n",
    "    median.set(color='#b2df8a', linewidth=2)\n",
    "\n",
    "## change the style of fliers and their fill\n",
    "for flier in bp['fliers']:\n",
    "    flier.set(marker='o', color='#e7298a', alpha=0.5)"
   ]
  },
  {
   "cell_type": "code",
   "execution_count": 28,
   "metadata": {
    "collapsed": true
   },
   "outputs": [],
   "source": [
    "## Custom x-axis labels\n",
    "ax.set_xticklabels(['Sample1', 'Sample2', 'Sample3', 'Sample4'])\n",
    "\n",
    "## Remove top axes and right axes ticks\n",
    "ax.get_xaxis().tick_bottom()\n",
    "ax.get_yaxis().tick_left()"
   ]
  },
  {
   "cell_type": "code",
   "execution_count": 19,
   "metadata": {
    "collapsed": false
   },
   "outputs": [],
   "source": [
    "# Save the figure\n",
    "# fig.savefig('fig1.png', bbox_inches='tight')"
   ]
  },
  {
   "cell_type": "code",
   "execution_count": 35,
   "metadata": {
    "collapsed": false
   },
   "outputs": [
    {
     "data": {
      "text/html": [
       "<div style=\"max-height:1000px;max-width:1500px;overflow:auto;\">\n",
       "<table border=\"1\" class=\"dataframe\">\n",
       "  <thead>\n",
       "    <tr style=\"text-align: right;\">\n",
       "      <th></th>\n",
       "      <th>0</th>\n",
       "      <th>1</th>\n",
       "      <th>2</th>\n",
       "      <th>3</th>\n",
       "      <th>4</th>\n",
       "      <th>5</th>\n",
       "      <th>6</th>\n",
       "      <th>7</th>\n",
       "      <th>8</th>\n",
       "      <th>9</th>\n",
       "      <th>...</th>\n",
       "      <th>190</th>\n",
       "      <th>191</th>\n",
       "      <th>192</th>\n",
       "      <th>193</th>\n",
       "      <th>194</th>\n",
       "      <th>195</th>\n",
       "      <th>196</th>\n",
       "      <th>197</th>\n",
       "      <th>198</th>\n",
       "      <th>199</th>\n",
       "    </tr>\n",
       "  </thead>\n",
       "  <tbody>\n",
       "    <tr>\n",
       "      <th>0</th>\n",
       "      <td>113.315865</td>\n",
       "      <td>107.152790</td>\n",
       "      <td>84.545997</td>\n",
       "      <td>99.916162</td>\n",
       "      <td>106.213360</td>\n",
       "      <td>92.799144</td>\n",
       "      <td>102.655116</td>\n",
       "      <td>101.085485</td>\n",
       "      <td>100.042914</td>\n",
       "      <td>98.253998</td>\n",
       "      <td>...</td>\n",
       "      <td>103.534776</td>\n",
       "      <td>97.927205</td>\n",
       "      <td>89.203026</td>\n",
       "      <td>98.769302</td>\n",
       "      <td>96.090178</td>\n",
       "      <td>112.551737</td>\n",
       "      <td>109.471261</td>\n",
       "      <td>89.776893</td>\n",
       "      <td>111.671684</td>\n",
       "      <td>94.280232</td>\n",
       "    </tr>\n",
       "    <tr>\n",
       "      <th>1</th>\n",
       "      <td>83.994125</td>\n",
       "      <td>116.082316</td>\n",
       "      <td>49.257411</td>\n",
       "      <td>84.811975</td>\n",
       "      <td>46.085741</td>\n",
       "      <td>21.761010</td>\n",
       "      <td>109.597935</td>\n",
       "      <td>80.846821</td>\n",
       "      <td>55.328972</td>\n",
       "      <td>32.403447</td>\n",
       "      <td>...</td>\n",
       "      <td>86.783790</td>\n",
       "      <td>76.523578</td>\n",
       "      <td>92.348072</td>\n",
       "      <td>88.634313</td>\n",
       "      <td>95.128144</td>\n",
       "      <td>104.128021</td>\n",
       "      <td>49.081754</td>\n",
       "      <td>39.269073</td>\n",
       "      <td>72.004944</td>\n",
       "      <td>74.861216</td>\n",
       "    </tr>\n",
       "    <tr>\n",
       "      <th>2</th>\n",
       "      <td>99.247711</td>\n",
       "      <td>65.602889</td>\n",
       "      <td>93.851457</td>\n",
       "      <td>98.709008</td>\n",
       "      <td>57.301117</td>\n",
       "      <td>98.698745</td>\n",
       "      <td>117.956388</td>\n",
       "      <td>92.493336</td>\n",
       "      <td>72.170972</td>\n",
       "      <td>78.462133</td>\n",
       "      <td>...</td>\n",
       "      <td>33.679976</td>\n",
       "      <td>92.190889</td>\n",
       "      <td>92.853386</td>\n",
       "      <td>74.319289</td>\n",
       "      <td>95.152215</td>\n",
       "      <td>116.258455</td>\n",
       "      <td>63.019493</td>\n",
       "      <td>100.002737</td>\n",
       "      <td>70.308267</td>\n",
       "      <td>119.719588</td>\n",
       "    </tr>\n",
       "    <tr>\n",
       "      <th>3</th>\n",
       "      <td>84.267336</td>\n",
       "      <td>57.178120</td>\n",
       "      <td>76.894561</td>\n",
       "      <td>60.267961</td>\n",
       "      <td>86.213235</td>\n",
       "      <td>69.389287</td>\n",
       "      <td>102.712179</td>\n",
       "      <td>136.564437</td>\n",
       "      <td>78.568160</td>\n",
       "      <td>91.815754</td>\n",
       "      <td>...</td>\n",
       "      <td>54.872401</td>\n",
       "      <td>77.098273</td>\n",
       "      <td>97.428021</td>\n",
       "      <td>56.535566</td>\n",
       "      <td>124.889919</td>\n",
       "      <td>52.433905</td>\n",
       "      <td>68.485011</td>\n",
       "      <td>75.430705</td>\n",
       "      <td>31.874143</td>\n",
       "      <td>81.447299</td>\n",
       "    </tr>\n",
       "  </tbody>\n",
       "</table>\n",
       "<p>4 rows × 200 columns</p>\n",
       "</div>"
      ],
      "text/plain": [
       "          0           1          2          3           4          5    \\\n",
       "0  113.315865  107.152790  84.545997  99.916162  106.213360  92.799144   \n",
       "1   83.994125  116.082316  49.257411  84.811975   46.085741  21.761010   \n",
       "2   99.247711   65.602889  93.851457  98.709008   57.301117  98.698745   \n",
       "3   84.267336   57.178120  76.894561  60.267961   86.213235  69.389287   \n",
       "\n",
       "          6           7           8          9       ...             190  \\\n",
       "0  102.655116  101.085485  100.042914  98.253998     ...      103.534776   \n",
       "1  109.597935   80.846821   55.328972  32.403447     ...       86.783790   \n",
       "2  117.956388   92.493336   72.170972  78.462133     ...       33.679976   \n",
       "3  102.712179  136.564437   78.568160  91.815754     ...       54.872401   \n",
       "\n",
       "         191        192        193         194         195         196  \\\n",
       "0  97.927205  89.203026  98.769302   96.090178  112.551737  109.471261   \n",
       "1  76.523578  92.348072  88.634313   95.128144  104.128021   49.081754   \n",
       "2  92.190889  92.853386  74.319289   95.152215  116.258455   63.019493   \n",
       "3  77.098273  97.428021  56.535566  124.889919   52.433905   68.485011   \n",
       "\n",
       "          197         198         199  \n",
       "0   89.776893  111.671684   94.280232  \n",
       "1   39.269073   72.004944   74.861216  \n",
       "2  100.002737   70.308267  119.719588  \n",
       "3   75.430705   31.874143   81.447299  \n",
       "\n",
       "[4 rows x 200 columns]"
      ]
     },
     "execution_count": 35,
     "metadata": {},
     "output_type": "execute_result"
    }
   ],
   "source": [
    "df = pd.DataFrame(data_to_plot)\n",
    "df.head()"
   ]
  },
  {
   "cell_type": "code",
   "execution_count": 36,
   "metadata": {
    "collapsed": true
   },
   "outputs": [],
   "source": [
    "df = df.T"
   ]
  },
  {
   "cell_type": "code",
   "execution_count": 37,
   "metadata": {
    "collapsed": false
   },
   "outputs": [
    {
     "data": {
      "text/plain": [
       "<matplotlib.axes._subplots.AxesSubplot at 0x106937518>"
      ]
     },
     "execution_count": 37,
     "metadata": {},
     "output_type": "execute_result"
    },
    {
     "data": {
      "image/png": "[encoded data removed]",
      "text/plain": [
       "<matplotlib.figure.Figure at 0x1098f91d0>"
      ]
     },
     "metadata": {},
     "output_type": "display_data"
    }
   ],
   "source": [
    "df.plot(kind='box')"
   ]
  },
  {
   "cell_type": "code",
   "execution_count": 42,
   "metadata": {
    "collapsed": false
   },
   "outputs": [
    {
     "data": {
      "text/plain": [
       "<matplotlib.axes._subplots.AxesSubplot at 0x109737cc0>"
      ]
     },
     "execution_count": 42,
     "metadata": {},
     "output_type": "execute_result"
    },
    {
     "data": {
      "image/png": "[encoded data removed]",
      "text/plain": [
       "<matplotlib.figure.Figure at 0x109ad7710>"
      ]
     },
     "metadata": {},
     "output_type": "display_data"
    }
   ],
   "source": [
    "color = dict(boxes='DarkGreen', whiskers='DarkOrange',\n",
    "    medians='DarkBlue', caps='Gray')\n",
    "df.columns = ['Sample1', 'Sample2', 'Sample3', 'Sample4']\n",
    "df.plot(kind='box', color=color, sym='r+')"
   ]
  },
  {
   "cell_type": "code",
   "execution_count": 43,
   "metadata": {
    "collapsed": false
   },
   "outputs": [
    {
     "data": {
      "text/plain": [
       "<matplotlib.axes._subplots.AxesSubplot at 0x10a251cc0>"
      ]
     },
     "execution_count": 43,
     "metadata": {},
     "output_type": "execute_result"
    },
    {
     "data": {
      "image/png": "[encoded data removed]",
      "text/plain": [
       "<matplotlib.figure.Figure at 0x109ad1eb8>"
      ]
     },
     "metadata": {},
     "output_type": "display_data"
    }
   ],
   "source": [
    "df['Sample1'].plot('box')"
   ]
  },
  {
   "cell_type": "code",
   "execution_count": null,
   "metadata": {
    "collapsed": true
   },
   "outputs": [],
   "source": [
    "df"
   ]
  }
 ],
 "metadata": {
  "kernelspec": {
   "display_name": "Python 3",
   "language": "python",
   "name": "python3"
  },
  "language_info": {
   "codemirror_mode": {
    "name": "ipython",
    "version": 3
   },
   "file_extension": ".py",
   "mimetype": "text/x-python",
   "name": "python",
   "nbconvert_exporter": "python",
   "pygments_lexer": "ipython3",
   "version": "3.4.3"
  }
 },
 "nbformat": 4,
 "nbformat_minor": 0
}
